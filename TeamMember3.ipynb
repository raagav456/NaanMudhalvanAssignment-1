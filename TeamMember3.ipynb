{
  "nbformat": 4,
  "nbformat_minor": 0,
  "metadata": {
    "colab": {
      "provenance": []
    },
    "kernelspec": {
      "name": "python3",
      "display_name": "Python 3"
    },
    "language_info": {
      "name": "python"
    }
  },
  "cells": [
    {
      "cell_type": "code",
      "execution_count": 21,
      "metadata": {
        "id": "lKGD2WiixNCu"
      },
      "outputs": [],
      "source": [
        "import pandas as pd\n",
        "import numpy as np\n",
        "import matplotlib.pyplot as plt\n",
        "import seaborn as sns\n",
        "from scipy.stats import pearsonr\n",
        "from sklearn.decomposition import PCA"
      ]
    },
    {
      "cell_type": "code",
      "source": [
        "# Load the dataset\n",
        "data = pd.read_csv('https://raw.githubusercontent.com/raagav456/NaanMudhalvanAssignment-1/main/House%20Price%20India.csv')"
      ],
      "metadata": {
        "id": "8fjV5rhsyTzr"
      },
      "execution_count": 4,
      "outputs": []
    },
    {
      "cell_type": "code",
      "source": [
        "data"
      ],
      "metadata": {
        "colab": {
          "base_uri": "https://localhost:8080/",
          "height": 540
        },
        "id": "DCmDtQmxy1G2",
        "outputId": "0175673f-712c-4e26-ca0e-c10a280e940a"
      },
      "execution_count": 5,
      "outputs": [
        {
          "output_type": "execute_result",
          "data": {
            "text/plain": [
              "               id   Date  number of bedrooms  number of bathrooms  \\\n",
              "0      6762810145  42491                   5                 2.50   \n",
              "1      6762810635  42491                   4                 2.50   \n",
              "2      6762810998  42491                   5                 2.75   \n",
              "3      6762812605  42491                   4                 2.50   \n",
              "4      6762812919  42491                   3                 2.00   \n",
              "...           ...    ...                 ...                  ...   \n",
              "14615  6762830250  42734                   2                 1.50   \n",
              "14616  6762830339  42734                   3                 2.00   \n",
              "14617  6762830618  42734                   2                 1.00   \n",
              "14618  6762830709  42734                   4                 1.00   \n",
              "14619  6762831463  42734                   3                 1.00   \n",
              "\n",
              "       living area  lot area  number of floors  waterfront present  \\\n",
              "0             3650      9050               2.0                   0   \n",
              "1             2920      4000               1.5                   0   \n",
              "2             2910      9480               1.5                   0   \n",
              "3             3310     42998               2.0                   0   \n",
              "4             2710      4500               1.5                   0   \n",
              "...            ...       ...               ...                 ...   \n",
              "14615         1556     20000               1.0                   0   \n",
              "14616         1680      7000               1.5                   0   \n",
              "14617         1070      6120               1.0                   0   \n",
              "14618         1030      6621               1.0                   0   \n",
              "14619          900      4770               1.0                   0   \n",
              "\n",
              "       number of views  condition of the house  ...  Built Year  \\\n",
              "0                    4                       5  ...        1921   \n",
              "1                    0                       5  ...        1909   \n",
              "2                    0                       3  ...        1939   \n",
              "3                    0                       3  ...        2001   \n",
              "4                    0                       4  ...        1929   \n",
              "...                ...                     ...  ...         ...   \n",
              "14615                0                       4  ...        1957   \n",
              "14616                0                       4  ...        1968   \n",
              "14617                0                       3  ...        1962   \n",
              "14618                0                       4  ...        1955   \n",
              "14619                0                       3  ...        1969   \n",
              "\n",
              "       Renovation Year  Postal Code  Lattitude  Longitude  living_area_renov  \\\n",
              "0                    0       122003    52.8645   -114.557               2880   \n",
              "1                    0       122004    52.8878   -114.470               2470   \n",
              "2                    0       122004    52.8852   -114.468               2940   \n",
              "3                    0       122005    52.9532   -114.321               3350   \n",
              "4                    0       122006    52.9047   -114.485               2060   \n",
              "...                ...          ...        ...        ...                ...   \n",
              "14615                0       122066    52.6191   -114.472               2250   \n",
              "14616                0       122072    52.5075   -114.393               1540   \n",
              "14617                0       122056    52.7289   -114.507               1130   \n",
              "14618                0       122042    52.7157   -114.411               1420   \n",
              "14619             2009       122018    52.5338   -114.552                900   \n",
              "\n",
              "       lot_area_renov  Number of schools nearby  Distance from the airport  \\\n",
              "0                5400                         2                         58   \n",
              "1                4000                         2                         51   \n",
              "2                6600                         1                         53   \n",
              "3               42847                         3                         76   \n",
              "4                4500                         1                         51   \n",
              "...               ...                       ...                        ...   \n",
              "14615           17286                         3                         76   \n",
              "14616            7480                         3                         59   \n",
              "14617            6120                         2                         64   \n",
              "14618            6631                         3                         54   \n",
              "14619            3480                         2                         55   \n",
              "\n",
              "         Price  \n",
              "0      2380000  \n",
              "1      1400000  \n",
              "2      1200000  \n",
              "3       838000  \n",
              "4       805000  \n",
              "...        ...  \n",
              "14615   221700  \n",
              "14616   219200  \n",
              "14617   209000  \n",
              "14618   205000  \n",
              "14619   146000  \n",
              "\n",
              "[14620 rows x 23 columns]"
            ],
            "text/html": [
              "\n",
              "  <div id=\"df-a2e89e6a-140a-4917-a29e-4c6597c5a1d6\">\n",
              "    <div class=\"colab-df-container\">\n",
              "      <div>\n",
              "<style scoped>\n",
              "    .dataframe tbody tr th:only-of-type {\n",
              "        vertical-align: middle;\n",
              "    }\n",
              "\n",
              "    .dataframe tbody tr th {\n",
              "        vertical-align: top;\n",
              "    }\n",
              "\n",
              "    .dataframe thead th {\n",
              "        text-align: right;\n",
              "    }\n",
              "</style>\n",
              "<table border=\"1\" class=\"dataframe\">\n",
              "  <thead>\n",
              "    <tr style=\"text-align: right;\">\n",
              "      <th></th>\n",
              "      <th>id</th>\n",
              "      <th>Date</th>\n",
              "      <th>number of bedrooms</th>\n",
              "      <th>number of bathrooms</th>\n",
              "      <th>living area</th>\n",
              "      <th>lot area</th>\n",
              "      <th>number of floors</th>\n",
              "      <th>waterfront present</th>\n",
              "      <th>number of views</th>\n",
              "      <th>condition of the house</th>\n",
              "      <th>...</th>\n",
              "      <th>Built Year</th>\n",
              "      <th>Renovation Year</th>\n",
              "      <th>Postal Code</th>\n",
              "      <th>Lattitude</th>\n",
              "      <th>Longitude</th>\n",
              "      <th>living_area_renov</th>\n",
              "      <th>lot_area_renov</th>\n",
              "      <th>Number of schools nearby</th>\n",
              "      <th>Distance from the airport</th>\n",
              "      <th>Price</th>\n",
              "    </tr>\n",
              "  </thead>\n",
              "  <tbody>\n",
              "    <tr>\n",
              "      <th>0</th>\n",
              "      <td>6762810145</td>\n",
              "      <td>42491</td>\n",
              "      <td>5</td>\n",
              "      <td>2.50</td>\n",
              "      <td>3650</td>\n",
              "      <td>9050</td>\n",
              "      <td>2.0</td>\n",
              "      <td>0</td>\n",
              "      <td>4</td>\n",
              "      <td>5</td>\n",
              "      <td>...</td>\n",
              "      <td>1921</td>\n",
              "      <td>0</td>\n",
              "      <td>122003</td>\n",
              "      <td>52.8645</td>\n",
              "      <td>-114.557</td>\n",
              "      <td>2880</td>\n",
              "      <td>5400</td>\n",
              "      <td>2</td>\n",
              "      <td>58</td>\n",
              "      <td>2380000</td>\n",
              "    </tr>\n",
              "    <tr>\n",
              "      <th>1</th>\n",
              "      <td>6762810635</td>\n",
              "      <td>42491</td>\n",
              "      <td>4</td>\n",
              "      <td>2.50</td>\n",
              "      <td>2920</td>\n",
              "      <td>4000</td>\n",
              "      <td>1.5</td>\n",
              "      <td>0</td>\n",
              "      <td>0</td>\n",
              "      <td>5</td>\n",
              "      <td>...</td>\n",
              "      <td>1909</td>\n",
              "      <td>0</td>\n",
              "      <td>122004</td>\n",
              "      <td>52.8878</td>\n",
              "      <td>-114.470</td>\n",
              "      <td>2470</td>\n",
              "      <td>4000</td>\n",
              "      <td>2</td>\n",
              "      <td>51</td>\n",
              "      <td>1400000</td>\n",
              "    </tr>\n",
              "    <tr>\n",
              "      <th>2</th>\n",
              "      <td>6762810998</td>\n",
              "      <td>42491</td>\n",
              "      <td>5</td>\n",
              "      <td>2.75</td>\n",
              "      <td>2910</td>\n",
              "      <td>9480</td>\n",
              "      <td>1.5</td>\n",
              "      <td>0</td>\n",
              "      <td>0</td>\n",
              "      <td>3</td>\n",
              "      <td>...</td>\n",
              "      <td>1939</td>\n",
              "      <td>0</td>\n",
              "      <td>122004</td>\n",
              "      <td>52.8852</td>\n",
              "      <td>-114.468</td>\n",
              "      <td>2940</td>\n",
              "      <td>6600</td>\n",
              "      <td>1</td>\n",
              "      <td>53</td>\n",
              "      <td>1200000</td>\n",
              "    </tr>\n",
              "    <tr>\n",
              "      <th>3</th>\n",
              "      <td>6762812605</td>\n",
              "      <td>42491</td>\n",
              "      <td>4</td>\n",
              "      <td>2.50</td>\n",
              "      <td>3310</td>\n",
              "      <td>42998</td>\n",
              "      <td>2.0</td>\n",
              "      <td>0</td>\n",
              "      <td>0</td>\n",
              "      <td>3</td>\n",
              "      <td>...</td>\n",
              "      <td>2001</td>\n",
              "      <td>0</td>\n",
              "      <td>122005</td>\n",
              "      <td>52.9532</td>\n",
              "      <td>-114.321</td>\n",
              "      <td>3350</td>\n",
              "      <td>42847</td>\n",
              "      <td>3</td>\n",
              "      <td>76</td>\n",
              "      <td>838000</td>\n",
              "    </tr>\n",
              "    <tr>\n",
              "      <th>4</th>\n",
              "      <td>6762812919</td>\n",
              "      <td>42491</td>\n",
              "      <td>3</td>\n",
              "      <td>2.00</td>\n",
              "      <td>2710</td>\n",
              "      <td>4500</td>\n",
              "      <td>1.5</td>\n",
              "      <td>0</td>\n",
              "      <td>0</td>\n",
              "      <td>4</td>\n",
              "      <td>...</td>\n",
              "      <td>1929</td>\n",
              "      <td>0</td>\n",
              "      <td>122006</td>\n",
              "      <td>52.9047</td>\n",
              "      <td>-114.485</td>\n",
              "      <td>2060</td>\n",
              "      <td>4500</td>\n",
              "      <td>1</td>\n",
              "      <td>51</td>\n",
              "      <td>805000</td>\n",
              "    </tr>\n",
              "    <tr>\n",
              "      <th>...</th>\n",
              "      <td>...</td>\n",
              "      <td>...</td>\n",
              "      <td>...</td>\n",
              "      <td>...</td>\n",
              "      <td>...</td>\n",
              "      <td>...</td>\n",
              "      <td>...</td>\n",
              "      <td>...</td>\n",
              "      <td>...</td>\n",
              "      <td>...</td>\n",
              "      <td>...</td>\n",
              "      <td>...</td>\n",
              "      <td>...</td>\n",
              "      <td>...</td>\n",
              "      <td>...</td>\n",
              "      <td>...</td>\n",
              "      <td>...</td>\n",
              "      <td>...</td>\n",
              "      <td>...</td>\n",
              "      <td>...</td>\n",
              "      <td>...</td>\n",
              "    </tr>\n",
              "    <tr>\n",
              "      <th>14615</th>\n",
              "      <td>6762830250</td>\n",
              "      <td>42734</td>\n",
              "      <td>2</td>\n",
              "      <td>1.50</td>\n",
              "      <td>1556</td>\n",
              "      <td>20000</td>\n",
              "      <td>1.0</td>\n",
              "      <td>0</td>\n",
              "      <td>0</td>\n",
              "      <td>4</td>\n",
              "      <td>...</td>\n",
              "      <td>1957</td>\n",
              "      <td>0</td>\n",
              "      <td>122066</td>\n",
              "      <td>52.6191</td>\n",
              "      <td>-114.472</td>\n",
              "      <td>2250</td>\n",
              "      <td>17286</td>\n",
              "      <td>3</td>\n",
              "      <td>76</td>\n",
              "      <td>221700</td>\n",
              "    </tr>\n",
              "    <tr>\n",
              "      <th>14616</th>\n",
              "      <td>6762830339</td>\n",
              "      <td>42734</td>\n",
              "      <td>3</td>\n",
              "      <td>2.00</td>\n",
              "      <td>1680</td>\n",
              "      <td>7000</td>\n",
              "      <td>1.5</td>\n",
              "      <td>0</td>\n",
              "      <td>0</td>\n",
              "      <td>4</td>\n",
              "      <td>...</td>\n",
              "      <td>1968</td>\n",
              "      <td>0</td>\n",
              "      <td>122072</td>\n",
              "      <td>52.5075</td>\n",
              "      <td>-114.393</td>\n",
              "      <td>1540</td>\n",
              "      <td>7480</td>\n",
              "      <td>3</td>\n",
              "      <td>59</td>\n",
              "      <td>219200</td>\n",
              "    </tr>\n",
              "    <tr>\n",
              "      <th>14617</th>\n",
              "      <td>6762830618</td>\n",
              "      <td>42734</td>\n",
              "      <td>2</td>\n",
              "      <td>1.00</td>\n",
              "      <td>1070</td>\n",
              "      <td>6120</td>\n",
              "      <td>1.0</td>\n",
              "      <td>0</td>\n",
              "      <td>0</td>\n",
              "      <td>3</td>\n",
              "      <td>...</td>\n",
              "      <td>1962</td>\n",
              "      <td>0</td>\n",
              "      <td>122056</td>\n",
              "      <td>52.7289</td>\n",
              "      <td>-114.507</td>\n",
              "      <td>1130</td>\n",
              "      <td>6120</td>\n",
              "      <td>2</td>\n",
              "      <td>64</td>\n",
              "      <td>209000</td>\n",
              "    </tr>\n",
              "    <tr>\n",
              "      <th>14618</th>\n",
              "      <td>6762830709</td>\n",
              "      <td>42734</td>\n",
              "      <td>4</td>\n",
              "      <td>1.00</td>\n",
              "      <td>1030</td>\n",
              "      <td>6621</td>\n",
              "      <td>1.0</td>\n",
              "      <td>0</td>\n",
              "      <td>0</td>\n",
              "      <td>4</td>\n",
              "      <td>...</td>\n",
              "      <td>1955</td>\n",
              "      <td>0</td>\n",
              "      <td>122042</td>\n",
              "      <td>52.7157</td>\n",
              "      <td>-114.411</td>\n",
              "      <td>1420</td>\n",
              "      <td>6631</td>\n",
              "      <td>3</td>\n",
              "      <td>54</td>\n",
              "      <td>205000</td>\n",
              "    </tr>\n",
              "    <tr>\n",
              "      <th>14619</th>\n",
              "      <td>6762831463</td>\n",
              "      <td>42734</td>\n",
              "      <td>3</td>\n",
              "      <td>1.00</td>\n",
              "      <td>900</td>\n",
              "      <td>4770</td>\n",
              "      <td>1.0</td>\n",
              "      <td>0</td>\n",
              "      <td>0</td>\n",
              "      <td>3</td>\n",
              "      <td>...</td>\n",
              "      <td>1969</td>\n",
              "      <td>2009</td>\n",
              "      <td>122018</td>\n",
              "      <td>52.5338</td>\n",
              "      <td>-114.552</td>\n",
              "      <td>900</td>\n",
              "      <td>3480</td>\n",
              "      <td>2</td>\n",
              "      <td>55</td>\n",
              "      <td>146000</td>\n",
              "    </tr>\n",
              "  </tbody>\n",
              "</table>\n",
              "<p>14620 rows × 23 columns</p>\n",
              "</div>\n",
              "      <button class=\"colab-df-convert\" onclick=\"convertToInteractive('df-a2e89e6a-140a-4917-a29e-4c6597c5a1d6')\"\n",
              "              title=\"Convert this dataframe to an interactive table.\"\n",
              "              style=\"display:none;\">\n",
              "        \n",
              "  <svg xmlns=\"http://www.w3.org/2000/svg\" height=\"24px\"viewBox=\"0 0 24 24\"\n",
              "       width=\"24px\">\n",
              "    <path d=\"M0 0h24v24H0V0z\" fill=\"none\"/>\n",
              "    <path d=\"M18.56 5.44l.94 2.06.94-2.06 2.06-.94-2.06-.94-.94-2.06-.94 2.06-2.06.94zm-11 1L8.5 8.5l.94-2.06 2.06-.94-2.06-.94L8.5 2.5l-.94 2.06-2.06.94zm10 10l.94 2.06.94-2.06 2.06-.94-2.06-.94-.94-2.06-.94 2.06-2.06.94z\"/><path d=\"M17.41 7.96l-1.37-1.37c-.4-.4-.92-.59-1.43-.59-.52 0-1.04.2-1.43.59L10.3 9.45l-7.72 7.72c-.78.78-.78 2.05 0 2.83L4 21.41c.39.39.9.59 1.41.59.51 0 1.02-.2 1.41-.59l7.78-7.78 2.81-2.81c.8-.78.8-2.07 0-2.86zM5.41 20L4 18.59l7.72-7.72 1.47 1.35L5.41 20z\"/>\n",
              "  </svg>\n",
              "      </button>\n",
              "      \n",
              "  <style>\n",
              "    .colab-df-container {\n",
              "      display:flex;\n",
              "      flex-wrap:wrap;\n",
              "      gap: 12px;\n",
              "    }\n",
              "\n",
              "    .colab-df-convert {\n",
              "      background-color: #E8F0FE;\n",
              "      border: none;\n",
              "      border-radius: 50%;\n",
              "      cursor: pointer;\n",
              "      display: none;\n",
              "      fill: #1967D2;\n",
              "      height: 32px;\n",
              "      padding: 0 0 0 0;\n",
              "      width: 32px;\n",
              "    }\n",
              "\n",
              "    .colab-df-convert:hover {\n",
              "      background-color: #E2EBFA;\n",
              "      box-shadow: 0px 1px 2px rgba(60, 64, 67, 0.3), 0px 1px 3px 1px rgba(60, 64, 67, 0.15);\n",
              "      fill: #174EA6;\n",
              "    }\n",
              "\n",
              "    [theme=dark] .colab-df-convert {\n",
              "      background-color: #3B4455;\n",
              "      fill: #D2E3FC;\n",
              "    }\n",
              "\n",
              "    [theme=dark] .colab-df-convert:hover {\n",
              "      background-color: #434B5C;\n",
              "      box-shadow: 0px 1px 3px 1px rgba(0, 0, 0, 0.15);\n",
              "      filter: drop-shadow(0px 1px 2px rgba(0, 0, 0, 0.3));\n",
              "      fill: #FFFFFF;\n",
              "    }\n",
              "  </style>\n",
              "\n",
              "      <script>\n",
              "        const buttonEl =\n",
              "          document.querySelector('#df-a2e89e6a-140a-4917-a29e-4c6597c5a1d6 button.colab-df-convert');\n",
              "        buttonEl.style.display =\n",
              "          google.colab.kernel.accessAllowed ? 'block' : 'none';\n",
              "\n",
              "        async function convertToInteractive(key) {\n",
              "          const element = document.querySelector('#df-a2e89e6a-140a-4917-a29e-4c6597c5a1d6');\n",
              "          const dataTable =\n",
              "            await google.colab.kernel.invokeFunction('convertToInteractive',\n",
              "                                                     [key], {});\n",
              "          if (!dataTable) return;\n",
              "\n",
              "          const docLinkHtml = 'Like what you see? Visit the ' +\n",
              "            '<a target=\"_blank\" href=https://colab.research.google.com/notebooks/data_table.ipynb>data table notebook</a>'\n",
              "            + ' to learn more about interactive tables.';\n",
              "          element.innerHTML = '';\n",
              "          dataTable['output_type'] = 'display_data';\n",
              "          await google.colab.output.renderOutput(dataTable, element);\n",
              "          const docLink = document.createElement('div');\n",
              "          docLink.innerHTML = docLinkHtml;\n",
              "          element.appendChild(docLink);\n",
              "        }\n",
              "      </script>\n",
              "    </div>\n",
              "  </div>\n",
              "  "
            ]
          },
          "metadata": {},
          "execution_count": 5
        }
      ]
    },
    {
      "cell_type": "markdown",
      "source": [
        "#Univariate Analysis"
      ],
      "metadata": {
        "id": "nPlbp4_VyJqK"
      }
    },
    {
      "cell_type": "code",
      "source": [
        "# Select the variable to analyze\n",
        "variable = data['Price']"
      ],
      "metadata": {
        "id": "6A9XhOy1yJTD"
      },
      "execution_count": 6,
      "outputs": []
    },
    {
      "cell_type": "code",
      "source": [
        "# Calculate the mean, median, and mode\n",
        "mean = np.mean(variable)\n",
        "median = np.median(variable)\n",
        "mode = variable.mode()[0]"
      ],
      "metadata": {
        "id": "8Rs5RgDryibK"
      },
      "execution_count": 7,
      "outputs": []
    },
    {
      "cell_type": "code",
      "source": [
        "# Calculate the range and standard deviation\n",
        "range = np.ptp(variable)\n",
        "sd = np.std(variable)"
      ],
      "metadata": {
        "id": "ltx7ni2by-K4"
      },
      "execution_count": 8,
      "outputs": []
    },
    {
      "cell_type": "code",
      "source": [
        "# Create a histogram\n",
        "plt.hist(variable, bins=10)\n",
        "plt.show()"
      ],
      "metadata": {
        "colab": {
          "base_uri": "https://localhost:8080/",
          "height": 448
        },
        "id": "Lm3fwRt9zAVA",
        "outputId": "9136b932-8acd-44c0-8719-58f0d4bde2cc"
      },
      "execution_count": 9,
      "outputs": [
        {
          "output_type": "display_data",
          "data": {
            "text/plain": [
              "<Figure size 640x480 with 1 Axes>"
            ],
            "image/png": "[encoded data removed]"
          },
          "metadata": {}
        }
      ]
    },
    {
      "cell_type": "code",
      "source": [
        "# Analyze the skewness and kurtosis\n",
        "skewness = variable.skew()\n",
        "kurtosis = variable.kurtosis()"
      ],
      "metadata": {
        "id": "7mbo5mvazHNY"
      },
      "execution_count": 10,
      "outputs": []
    },
    {
      "cell_type": "code",
      "source": [
        "# Draw conclusions about the variable\n",
        "print(\"Mean: \", mean)\n",
        "print(\"Median: \", median)\n",
        "print(\"Mode: \", mode)\n",
        "print(\"Range: \", range)\n",
        "print(\"Standard deviation: \", sd)\n",
        "print(\"Skewness: \", skewness)\n",
        "print(\"Kurtosis: \", kurtosis)"
      ],
      "metadata": {
        "colab": {
          "base_uri": "https://localhost:8080/"
        },
        "id": "jauQTzJQzJl5",
        "outputId": "4eb0825b-81ac-4837-bf38-515f4e778a8c"
      },
      "execution_count": 11,
      "outputs": [
        {
          "output_type": "stream",
          "name": "stdout",
          "text": [
            "Mean:  538932.2183310534\n",
            "Median:  450000.0\n",
            "Mode:  450000\n",
            "Range:  7622000\n",
            "Standard deviation:  367519.8110821553\n",
            "Skewness:  4.269297720707116\n",
            "Kurtosis:  40.32191815363438\n"
          ]
        }
      ]
    },
    {
      "cell_type": "markdown",
      "source": [
        "#Bivariate Analysis"
      ],
      "metadata": {
        "id": "up5b78lYzNzB"
      }
    },
    {
      "cell_type": "code",
      "source": [
        "for col in data.columns:\n",
        "    print(col)"
      ],
      "metadata": {
        "colab": {
          "base_uri": "https://localhost:8080/"
        },
        "id": "iyKdoKgnzjtg",
        "outputId": "d4fbcf46-3076-4daf-824d-249911189056"
      },
      "execution_count": 13,
      "outputs": [
        {
          "output_type": "stream",
          "name": "stdout",
          "text": [
            "id\n",
            "Date\n",
            "number of bedrooms\n",
            "number of bathrooms\n",
            "living area\n",
            "lot area\n",
            "number of floors\n",
            "waterfront present\n",
            "number of views\n",
            "condition of the house\n",
            "grade of the house\n",
            "Area of the house(excluding basement)\n",
            "Area of the basement\n",
            "Built Year\n",
            "Renovation Year\n",
            "Postal Code\n",
            "Lattitude\n",
            "Longitude\n",
            "living_area_renov\n",
            "lot_area_renov\n",
            "Number of schools nearby\n",
            "Distance from the airport\n",
            "Price\n"
          ]
        }
      ]
    },
    {
      "cell_type": "code",
      "source": [
        "# Select the variables to analyze\n",
        "x = data['living area']\n",
        "y = data['Price']"
      ],
      "metadata": {
        "id": "L96TIZEIzLs4"
      },
      "execution_count": 14,
      "outputs": []
    },
    {
      "cell_type": "code",
      "source": [
        "# Create a scatter plot\n",
        "sns.scatterplot(x=x, y=y)\n",
        "plt.show()"
      ],
      "metadata": {
        "colab": {
          "base_uri": "https://localhost:8080/",
          "height": 465
        },
        "id": "klgcviAYzXX4",
        "outputId": "4b1a826d-fe70-429e-faa4-3ba56dcd9299"
      },
      "execution_count": 17,
      "outputs": [
        {
          "output_type": "display_data",
          "data": {
            "text/plain": [
              "<Figure size 640x480 with 1 Axes>"
            ],
            "image/png": "[encoded data removed]"
          },
          "metadata": {}
        }
      ]
    },
    {
      "cell_type": "code",
      "source": [
        "# Calculate the correlation coefficient and p-value\n",
        "corr_coef, p_value = pearsonr(x, y)"
      ],
      "metadata": {
        "id": "uhfgz2Iezt2f"
      },
      "execution_count": 18,
      "outputs": []
    },
    {
      "cell_type": "code",
      "source": [
        "# Test for statistical significance\n",
        "alpha = 0.05\n",
        "if p_value < alpha:\n",
        "    print(\"The relationship is statistically significant\")\n",
        "else:\n",
        "    print(\"The relationship is not statistically significant\")"
      ],
      "metadata": {
        "colab": {
          "base_uri": "https://localhost:8080/"
        },
        "id": "wHKpHb0gz2v_",
        "outputId": "f4d4b5d3-08e5-4582-9073-322e66068742"
      },
      "execution_count": 19,
      "outputs": [
        {
          "output_type": "stream",
          "name": "stdout",
          "text": [
            "The relationship is statistically significant\n"
          ]
        }
      ]
    },
    {
      "cell_type": "code",
      "source": [
        "# Draw conclusions about the relationship between the two variables\n",
        "print(\"Correlation coefficient: \", corr_coef)"
      ],
      "metadata": {
        "colab": {
          "base_uri": "https://localhost:8080/"
        },
        "id": "HW81vA_dz6Iv",
        "outputId": "7c7cff8b-1e9f-4437-8b2f-732301c25294"
      },
      "execution_count": 20,
      "outputs": [
        {
          "output_type": "stream",
          "name": "stdout",
          "text": [
            "Correlation coefficient:  0.7121694766782514\n"
          ]
        }
      ]
    },
    {
      "cell_type": "markdown",
      "source": [
        "#MultiVariate Analysis"
      ],
      "metadata": {
        "id": "GhPUHkf70Gp5"
      }
    },
    {
      "cell_type": "code",
      "source": [
        "# Select the variables to analyze\n",
        "variables = data[['lot area', 'number of bedrooms', 'number of bathrooms', 'number of floors']]"
      ],
      "metadata": {
        "id": "fVTVVsxFz9To"
      },
      "execution_count": 24,
      "outputs": []
    },
    {
      "cell_type": "code",
      "source": [
        "# Standardize the variables\n",
        "standardized_variables = (variables - variables.mean()) / variables.std()"
      ],
      "metadata": {
        "id": "zN5D4twR0NGn"
      },
      "execution_count": 25,
      "outputs": []
    },
    {
      "cell_type": "code",
      "source": [
        "# Perform principal component analysis\n",
        "pca = PCA()\n",
        "pca.fit(standardized_variables)"
      ],
      "metadata": {
        "colab": {
          "base_uri": "https://localhost:8080/",
          "height": 75
        },
        "id": "26PkVM-Q0kRW",
        "outputId": "e4457d5f-0888-4310-bc38-82985802bbf2"
      },
      "execution_count": 26,
      "outputs": [
        {
          "output_type": "execute_result",
          "data": {
            "text/plain": [
              "PCA()"
            ],
            "text/html": [
              "<style>#sk-container-id-1 {color: black;background-color: white;}#sk-container-id-1 pre{padding: 0;}#sk-container-id-1 div.sk-toggleable {background-color: white;}#sk-container-id-1 label.sk-toggleable__label {cursor: pointer;display: block;width: 100%;margin-bottom: 0;padding: 0.3em;box-sizing: border-box;text-align: center;}#sk-container-id-1 label.sk-toggleable__label-arrow:before {content: \"▸\";float: left;margin-right: 0.25em;color: #696969;}#sk-container-id-1 label.sk-toggleable__label-arrow:hover:before {color: black;}#sk-container-id-1 div.sk-estimator:hover label.sk-toggleable__label-arrow:before {color: black;}#sk-container-id-1 div.sk-toggleable__content {max-height: 0;max-width: 0;overflow: hidden;text-align: left;background-color: #f0f8ff;}#sk-container-id-1 div.sk-toggleable__content pre {margin: 0.2em;color: black;border-radius: 0.25em;background-color: #f0f8ff;}#sk-container-id-1 input.sk-toggleable__control:checked~div.sk-toggleable__content {max-height: 200px;max-width: 100%;overflow: auto;}#sk-container-id-1 input.sk-toggleable__control:checked~label.sk-toggleable__label-arrow:before {content: \"▾\";}#sk-container-id-1 div.sk-estimator input.sk-toggleable__control:checked~label.sk-toggleable__label {background-color: #d4ebff;}#sk-container-id-1 div.sk-label input.sk-toggleable__control:checked~label.sk-toggleable__label {background-color: #d4ebff;}#sk-container-id-1 input.sk-hidden--visually {border: 0;clip: rect(1px 1px 1px 1px);clip: rect(1px, 1px, 1px, 1px);height: 1px;margin: -1px;overflow: hidden;padding: 0;position: absolute;width: 1px;}#sk-container-id-1 div.sk-estimator {font-family: monospace;background-color: #f0f8ff;border: 1px dotted black;border-radius: 0.25em;box-sizing: border-box;margin-bottom: 0.5em;}#sk-container-id-1 div.sk-estimator:hover {background-color: #d4ebff;}#sk-container-id-1 div.sk-parallel-item::after {content: \"\";width: 100%;border-bottom: 1px solid gray;flex-grow: 1;}#sk-container-id-1 div.sk-label:hover label.sk-toggleable__label {background-color: #d4ebff;}#sk-container-id-1 div.sk-serial::before {content: \"\";position: absolute;border-left: 1px solid gray;box-sizing: border-box;top: 0;bottom: 0;left: 50%;z-index: 0;}#sk-container-id-1 div.sk-serial {display: flex;flex-direction: column;align-items: center;background-color: white;padding-right: 0.2em;padding-left: 0.2em;position: relative;}#sk-container-id-1 div.sk-item {position: relative;z-index: 1;}#sk-container-id-1 div.sk-parallel {display: flex;align-items: stretch;justify-content: center;background-color: white;position: relative;}#sk-container-id-1 div.sk-item::before, #sk-container-id-1 div.sk-parallel-item::before {content: \"\";position: absolute;border-left: 1px solid gray;box-sizing: border-box;top: 0;bottom: 0;left: 50%;z-index: -1;}#sk-container-id-1 div.sk-parallel-item {display: flex;flex-direction: column;z-index: 1;position: relative;background-color: white;}#sk-container-id-1 div.sk-parallel-item:first-child::after {align-self: flex-end;width: 50%;}#sk-container-id-1 div.sk-parallel-item:last-child::after {align-self: flex-start;width: 50%;}#sk-container-id-1 div.sk-parallel-item:only-child::after {width: 0;}#sk-container-id-1 div.sk-dashed-wrapped {border: 1px dashed gray;margin: 0 0.4em 0.5em 0.4em;box-sizing: border-box;padding-bottom: 0.4em;background-color: white;}#sk-container-id-1 div.sk-label label {font-family: monospace;font-weight: bold;display: inline-block;line-height: 1.2em;}#sk-container-id-1 div.sk-label-container {text-align: center;}#sk-container-id-1 div.sk-container {/* jupyter's `normalize.less` sets `[hidden] { display: none; }` but bootstrap.min.css set `[hidden] { display: none !important; }` so we also need the `!important` here to be able to override the default hidden behavior on the sphinx rendered scikit-learn.org. See: https://github.com/scikit-learn/scikit-learn/issues/21755 */display: inline-block !important;position: relative;}#sk-container-id-1 div.sk-text-repr-fallback {display: none;}</style><div id=\"sk-container-id-1\" class=\"sk-top-container\"><div class=\"sk-text-repr-fallback\"><pre>PCA()</pre><b>In a Jupyter environment, please rerun this cell to show the HTML representation or trust the notebook. <br />On GitHub, the HTML representation is unable to render, please try loading this page with nbviewer.org.</b></div><div class=\"sk-container\" hidden><div class=\"sk-item\"><div class=\"sk-estimator sk-toggleable\"><input class=\"sk-toggleable__control sk-hidden--visually\" id=\"sk-estimator-id-1\" type=\"checkbox\" checked><label for=\"sk-estimator-id-1\" class=\"sk-toggleable__label sk-toggleable__label-arrow\">PCA</label><div class=\"sk-toggleable__content\"><pre>PCA()</pre></div></div></div></div></div>"
            ]
          },
          "metadata": {},
          "execution_count": 26
        }
      ]
    },
    {
      "cell_type": "code",
      "source": [
        "# Visualize the results\n",
        "sns.scatterplot(x=pca.components_[0], y=pca.components_[1])\n",
        "plt.show()"
      ],
      "metadata": {
        "colab": {
          "base_uri": "https://localhost:8080/",
          "height": 430
        },
        "id": "8SKz7mN-0l9-",
        "outputId": "c2290259-0963-4125-d3d7-3bc8702d0f08"
      },
      "execution_count": 27,
      "outputs": [
        {
          "output_type": "display_data",
          "data": {
            "text/plain": [
              "<Figure size 640x480 with 1 Axes>"
            ],
            "image/png": "[encoded data removed]"
          },
          "metadata": {}
        }
      ]
    },
    {
      "cell_type": "code",
      "source": [
        "# Interpret the results\n",
        "print(\"Explained variance ratios: \", pca.explained_variance_ratio_)"
      ],
      "metadata": {
        "colab": {
          "base_uri": "https://localhost:8080/"
        },
        "id": "SXkJLBL60o23",
        "outputId": "b23cb49f-5129-48c7-c2e5-0552fd9134b1"
      },
      "execution_count": 28,
      "outputs": [
        {
          "output_type": "stream",
          "name": "stdout",
          "text": [
            "Explained variance ratios:  [0.45404375 0.25038954 0.20464537 0.09092134]\n"
          ]
        }
      ]
    }
  ]
}